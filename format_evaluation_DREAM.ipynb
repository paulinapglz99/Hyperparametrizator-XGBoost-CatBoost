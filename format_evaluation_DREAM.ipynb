{
 "cells": [
  {
   "cell_type": "code",
   "execution_count": 1,
   "id": "7cb6bc6a",
   "metadata": {},
   "outputs": [],
   "source": [
    "import pandas as pd\n",
    "from glob import glob\n",
    "from functools import reduce"
   ]
  },
  {
   "cell_type": "code",
   "execution_count": 2,
   "id": "296100d0",
   "metadata": {},
   "outputs": [],
   "source": [
    "### Categorical mappings for submission format\n",
    "MAPS = {\n",
    "    'ADNC': {0:\"Not AD\",1:\"Low\",2:\"Intermediate\",3:\"High\"},\n",
    "    'Braak': {i:f\"Braak {['0','I','II','III','IV','V','VI'][i]}\" for i in range(7)},\n",
    "    'CERAD': {0:\"Absent\",1:\"Sparse\",2:\"Moderate\",3:\"Frequent\"},\n",
    "    'Thal': {i:f\"Thal {i}\" for i in range(6)}\n",
    "}"
   ]
  },
  {
   "cell_type": "code",
   "execution_count": 3,
   "id": "504b6086",
   "metadata": {},
   "outputs": [],
   "source": [
    "### Process predictions to submission format: categorical to strings, continuous to float [0,100]\n",
    "def format_evaluation(f):\n",
    "\n",
    "    ## Extract target name from filename (format: {region}_{target}_train_predictions.csv)\n",
    "    parts = f.split('/')[-1].replace('_test_predictions.csv', '').split('_')\n",
    "    target = '_'.join(parts[1:])\n",
    "    \n",
    "    ## Load test predictions and ensure data type (string) in Donor ID\n",
    "    df = pd.read_csv(f)[['Donor ID', 'predicted_value']]\n",
    "    df['Donor ID'] = df['Donor ID'].astype(str) \n",
    "    \n",
    "    ## Convert predictions: categorical to strings, continuous to clipped float [0,100]\n",
    "    if target in MAPS:\n",
    "        df['predicted_value'] = df['predicted_value'].round().astype(int).map(MAPS[target])\n",
    "    else:\n",
    "        df['predicted_value'] = df['predicted_value'].clip(0, 100).astype(float)\n",
    "    \n",
    "    ## Format column name for submission\n",
    "    col_name = f\"predicted {target.replace('percent_','').replace('_positive_area','').replace('percent ','').replace(' positive area','')}\"\n",
    "    \n",
    "    return df.rename(columns={'predicted_value': col_name})"
   ]
  },
  {
   "cell_type": "code",
   "execution_count": 4,
   "id": "7c8be2e2",
   "metadata": {},
   "outputs": [],
   "source": [
    "### Process all predictions per target and region\n",
    "for region in ['MTG', 'A9']:\n",
    "    \n",
    "    targets = ['ADNC', 'Braak', 'CERAD', 'Thal', \n",
    "               'percent 6e10 positive area', 'percent AT8 positive area', \n",
    "               'percent GFAP positive area', 'percent NeuN positive area']\n",
    "    \n",
    "    files = [f'./output/{region}/{region}_{t}_test_predictions.csv' for t in targets]\n",
    "    \n",
    "    submission = reduce(lambda l,r: l.merge(r, on='Donor ID'), map(format_evaluation, files))\n",
    "    \n",
    "    submission.to_csv(f'./output/{region}/submission_{region}_test.csv', index=False)"
   ]
  }
 ],
 "metadata": {
  "kernelspec": {
   "display_name": "base",
   "language": "python",
   "name": "python3"
  },
  "language_info": {
   "codemirror_mode": {
    "name": "ipython",
    "version": 3
   },
   "file_extension": ".py",
   "mimetype": "text/x-python",
   "name": "python",
   "nbconvert_exporter": "python",
   "pygments_lexer": "ipython3",
   "version": "3.9.12"
  }
 },
 "nbformat": 4,
 "nbformat_minor": 5
}
