{
 "cells": [
  {
   "cell_type": "code",
   "execution_count": 23,
   "id": "d51c6b93",
   "metadata": {},
   "outputs": [],
   "source": [
    "import pandas as pd\n",
    "import numpy as np\n",
    "import xgboost as xgb\n",
    "from sklearn.metrics import cohen_kappa_score, mean_absolute_error, mean_squared_error, r2_score\n",
    "from scipy.stats import spearmanr\n",
    "from scipy.optimize import minimize\n",
    "import os\n",
    "import joblib"
   ]
  },
  {
   "cell_type": "code",
   "execution_count": 24,
   "id": "cbc06c9a",
   "metadata": {},
   "outputs": [],
   "source": [
    "### Define targets\n",
    "ordinal_targets = ['ADNC', 'Braak', 'Thal', 'CERAD']\n",
    "continuous_targets = ['percent 6e10 positive area', 'percent AT8 positive area', 'percent GFAP positive area']\n",
    "                      #'percent NeuN positive area'"
   ]
  },
  {
   "cell_type": "code",
   "execution_count": 25,
   "id": "51faeb1a",
   "metadata": {},
   "outputs": [],
   "source": [
    "### Train final model\n",
    "def train_final_model(df, target, region, random_state=42):\n",
    "    \n",
    "    ## Prepare data (create feature matrix (x) and target vectors (y))\n",
    "    X, y = df.drop(columns=['Donor ID', target]), df[target].values\n",
    "    \n",
    "    ## Train model (XGBoost regressor)\n",
    "    model = xgb.XGBRegressor(random_state=random_state, eval_metric='rmse')\n",
    "    model.fit(X, y)\n",
    "    y_pred = model.predict(X)\n",
    "    \n",
    "    ## Calculate metrics based on target type (according to DREAM tasks)\n",
    "    if target in ordinal_targets:\n",
    "        # Optimize thresholds for ordinal targets and calculate metrics\n",
    "        class_props = pd.Series(y).value_counts(normalize=True).sort_index()\n",
    "        initial_th = np.quantile(y_pred, q=np.cumsum(class_props).iloc[:-1])\n",
    "        \n",
    "        result = minimize(\n",
    "            lambda th: -cohen_kappa_score(y, np.digitize(y_pred, bins=np.sort(th)), weights='quadratic'),\n",
    "            x0=initial_th, method='Nelder-Mead'\n",
    "        )\n",
    "        \n",
    "        y_classes = np.digitize(y_pred, bins=np.sort(result.x))\n",
    "        metrics = {\n",
    "            'quadratic_weighted_kappa': cohen_kappa_score(y, y_classes, weights='quadratic'),\n",
    "            'mean_absolute_error': mean_absolute_error(y, y_classes),\n",
    "            'spearman_correlation': spearmanr(y, y_classes)[0],\n",
    "            'optimized_thresholds': str(np.sort(result.x).round(3))\n",
    "        }\n",
    "\n",
    "    else:\n",
    "        # Calculate metrics for continuous targets\n",
    "        mean_t, mean_p = np.mean(y), np.mean(y_pred)\n",
    "        var_t, var_p = np.var(y, ddof=1), np.var(y_pred, ddof=1)\n",
    "        ccc = (2 * np.cov(y, y_pred)[0,1]) / (var_t + var_p + (mean_t - mean_p)**2)\n",
    "        \n",
    "        metrics = {\n",
    "            'concordance_correlation_coefficient': ccc,\n",
    "            'mean_squared_error': mean_squared_error(y, y_pred),\n",
    "            'r2_score': r2_score(y, y_pred)\n",
    "        }\n",
    "    \n",
    "    ### Save model\n",
    "    joblib.dump(model, f'./output/{region}/{target}_model.pkl')\n",
    "    \n",
    "    ### Save metrics\n",
    "    metrics_df = pd.DataFrame(list(metrics.items()), columns=['metric_name', 'metric_value'])\n",
    "    metrics_df.to_csv(f'./output/{region}/{target}_metrics.csv', index=False)\n",
    "    \n",
    "    ### Save feature importance\n",
    "    importance_df = pd.DataFrame({'feature': X.columns, 'importance': model.feature_importances_})\n",
    "    importance_df.sort_values('importance', ascending=False).to_csv(\n",
    "        f'./output/{region}/{target}_feature_importance.csv', index=False)\n",
    "    \n",
    "    return model"
   ]
  },
  {
   "cell_type": "code",
   "execution_count": 26,
   "id": "26c19eca",
   "metadata": {},
   "outputs": [],
   "source": [
    "### Process all datasets\n",
    "for csv_file in os.listdir('data/'):\n",
    "    if csv_file in ['dataset_mtg.csv', 'dataset_a9.csv']:\n",
    "        \n",
    "        region = 'MTG' if 'mtg' in csv_file else 'A9'\n",
    "        df = pd.read_csv(f'data/{csv_file}')\n",
    "        \n",
    "        all_targets = ordinal_targets + continuous_targets\n",
    "        for target in all_targets:\n",
    "            train_final_model(df, target, region)"
   ]
  }
 ],
 "metadata": {
  "kernelspec": {
   "display_name": "base",
   "language": "python",
   "name": "python3"
  },
  "language_info": {
   "codemirror_mode": {
    "name": "ipython",
    "version": 3
   },
   "file_extension": ".py",
   "mimetype": "text/x-python",
   "name": "python",
   "nbconvert_exporter": "python",
   "pygments_lexer": "ipython3",
   "version": "3.9.12"
  }
 },
 "nbformat": 4,
 "nbformat_minor": 5
}
