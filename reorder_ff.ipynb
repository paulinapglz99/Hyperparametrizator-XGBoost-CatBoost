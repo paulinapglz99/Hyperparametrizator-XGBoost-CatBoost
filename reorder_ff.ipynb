{
 "cells": [
  {
   "cell_type": "code",
   "execution_count": 11,
   "id": "297facda",
   "metadata": {},
   "outputs": [],
   "source": [
    "import pandas as pd"
   ]
  },
  {
   "cell_type": "code",
   "execution_count": 12,
   "id": "533e824c",
   "metadata": {},
   "outputs": [],
   "source": [
    "### Load datasets\n",
    "# df_mtg = pd.read_csv('data/dataset_mtg.csv')\n",
    "# df_a9 = pd.read_csv('data/dataset_a9.csv')\n",
    "\n",
    "### Extract column order and save to CSV\n",
    "# column_order = df_a9.columns.tolist()\n",
    "# df_order = pd.DataFrame({'column_name': column_order})\n",
    "# df_order.to_csv('data/column_order.csv', index=False)"
   ]
  },
  {
   "cell_type": "code",
   "execution_count": 13,
   "id": "4263295e",
   "metadata": {},
   "outputs": [],
   "source": [
    "### Read column order from CSV\n",
    "column_order_df = pd.read_csv('data/column_order.csv')\n",
    "column_order = column_order_df['column_name'].tolist()\n",
    "\n",
    "### Load datasets\n",
    "df_mtg = pd.read_csv('data/dataset_mtg.csv')\n",
    "df_a9 = pd.read_csv('data/dataset_a9.csv')\n",
    "\n",
    "### Reorder datasets using the predefined column order\n",
    "df_mtg[column_order].to_csv('data/dataset_mtg_ordered.csv', index=False)\n",
    "df_a9[column_order].to_csv('data/dataset_a9_ordered.csv', index=False)"
   ]
  }
 ],
 "metadata": {
  "kernelspec": {
   "display_name": "base",
   "language": "python",
   "name": "python3"
  },
  "language_info": {
   "codemirror_mode": {
    "name": "ipython",
    "version": 3
   },
   "file_extension": ".py",
   "mimetype": "text/x-python",
   "name": "python",
   "nbconvert_exporter": "python",
   "pygments_lexer": "ipython3",
   "version": "3.9.12"
  }
 },
 "nbformat": 4,
 "nbformat_minor": 5
}
